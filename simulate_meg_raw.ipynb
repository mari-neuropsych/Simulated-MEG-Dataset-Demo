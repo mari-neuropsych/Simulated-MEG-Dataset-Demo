import mne
import numpy as np  # using numpy here

# Generate synthetic MEG data (simulation)
data = np.random.randn(10, 1000)  # 10 channels × 1000 time points

# Create MEG info structure
info = mne.create_info(
    ch_names=[f"MEG{i}" for i in range(10)], 
    sfreq=1000, 
    ch_types="mag"
)

# Create RawArray object
raw = mne.io.RawArray(data, info)

print(raw)
